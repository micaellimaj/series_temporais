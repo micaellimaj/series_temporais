{
  "cells": [
    {
      "cell_type": "markdown",
      "metadata": {
        "colab_type": "text",
        "id": "view-in-github"
      },
      "source": [
        "<a href=\"https://colab.research.google.com/github/micaellimaj/series_temporais/blob/main/EstoqueDoGoogle.ipynb\" target=\"_parent\"><img src=\"https://colab.research.google.com/assets/colab-badge.svg\" alt=\"Open In Colab\"/></a>"
      ]
    },
    {
      "cell_type": "markdown",
      "metadata": {
        "id": "z73DfujUXPij"
      },
      "source": [
        "# Estoque do Google"
      ]
    },
    {
      "cell_type": "markdown",
      "metadata": {
        "id": "9LYOp_OkXW6a"
      },
      "source": [
        "## Introdução"
      ]
    },
    {
      "cell_type": "markdown",
      "metadata": {
        "id": "katie_WMXpi0"
      },
      "source": [
        "https://www.kaggle.com/datasets/alirezajavid1999/google-stock-2010-2023?select=Google_Stock_Test+%282023%29.csv"
      ]
    },
    {
      "cell_type": "markdown",
      "metadata": {
        "id": "epk7RtPBXdyI"
      },
      "source": [
        "## Pré-Processamento dos dados"
      ]
    },
    {
      "cell_type": "code",
      "execution_count": 45,
      "metadata": {
        "id": "bPBOUyi_Tsnq"
      },
      "outputs": [],
      "source": [
        "# bibliotecas\n",
        "import pandas as pd\n",
        "import seaborn as sns\n",
        "import matplotlib.pyplot as plt\n",
        "import numpy as np\n",
        "import locale"
      ]
    },
    {
      "cell_type": "code",
      "execution_count": 3,
      "metadata": {
        "id": "hev54LWKXulF"
      },
      "outputs": [],
      "source": [
        "dados = pd.read_csv('Google_Stock_Test (2023).csv')"
      ]
    },
    {
      "cell_type": "markdown",
      "metadata": {
        "id": "9fJhr6KjYqeQ"
      },
      "source": [
        "Vamos vizualizar o conjunto de dados."
      ]
    },
    {
      "cell_type": "code",
      "execution_count": 28,
      "metadata": {
        "colab": {
          "base_uri": "https://localhost:8080/",
          "height": 206
        },
        "id": "Fwz6k6IrYTZe",
        "outputId": "fb322143-f2fc-4990-e01b-d214445e80d9"
      },
      "outputs": [
        {
          "data": {
            "text/html": [
              "<div>\n",
              "<style scoped>\n",
              "    .dataframe tbody tr th:only-of-type {\n",
              "        vertical-align: middle;\n",
              "    }\n",
              "\n",
              "    .dataframe tbody tr th {\n",
              "        vertical-align: top;\n",
              "    }\n",
              "\n",
              "    .dataframe thead th {\n",
              "        text-align: right;\n",
              "    }\n",
              "</style>\n",
              "<table border=\"1\" class=\"dataframe\">\n",
              "  <thead>\n",
              "    <tr style=\"text-align: right;\">\n",
              "      <th></th>\n",
              "      <th>Data</th>\n",
              "      <th>Abertura</th>\n",
              "      <th>Alta</th>\n",
              "      <th>Baixa</th>\n",
              "      <th>Fechamento</th>\n",
              "      <th>Fechamento_Ajustado</th>\n",
              "      <th>Volume</th>\n",
              "    </tr>\n",
              "  </thead>\n",
              "  <tbody>\n",
              "    <tr>\n",
              "      <th>0</th>\n",
              "      <td>2023-01-03</td>\n",
              "      <td>89.589996</td>\n",
              "      <td>91.050003</td>\n",
              "      <td>88.519997</td>\n",
              "      <td>89.120003</td>\n",
              "      <td>89.120003</td>\n",
              "      <td>28131200</td>\n",
              "    </tr>\n",
              "    <tr>\n",
              "      <th>1</th>\n",
              "      <td>2023-01-04</td>\n",
              "      <td>90.349998</td>\n",
              "      <td>90.650002</td>\n",
              "      <td>87.269997</td>\n",
              "      <td>88.080002</td>\n",
              "      <td>88.080002</td>\n",
              "      <td>34854800</td>\n",
              "    </tr>\n",
              "    <tr>\n",
              "      <th>2</th>\n",
              "      <td>2023-01-05</td>\n",
              "      <td>87.470001</td>\n",
              "      <td>87.570000</td>\n",
              "      <td>85.900002</td>\n",
              "      <td>86.199997</td>\n",
              "      <td>86.199997</td>\n",
              "      <td>27194400</td>\n",
              "    </tr>\n",
              "    <tr>\n",
              "      <th>3</th>\n",
              "      <td>2023-01-06</td>\n",
              "      <td>86.790001</td>\n",
              "      <td>87.690002</td>\n",
              "      <td>84.860001</td>\n",
              "      <td>87.339996</td>\n",
              "      <td>87.339996</td>\n",
              "      <td>41381500</td>\n",
              "    </tr>\n",
              "    <tr>\n",
              "      <th>4</th>\n",
              "      <td>2023-01-09</td>\n",
              "      <td>88.360001</td>\n",
              "      <td>90.050003</td>\n",
              "      <td>87.860001</td>\n",
              "      <td>88.019997</td>\n",
              "      <td>88.019997</td>\n",
              "      <td>29003900</td>\n",
              "    </tr>\n",
              "  </tbody>\n",
              "</table>\n",
              "</div>"
            ],
            "text/plain": [
              "         Data   Abertura       Alta      Baixa  Fechamento  \\\n",
              "0  2023-01-03  89.589996  91.050003  88.519997   89.120003   \n",
              "1  2023-01-04  90.349998  90.650002  87.269997   88.080002   \n",
              "2  2023-01-05  87.470001  87.570000  85.900002   86.199997   \n",
              "3  2023-01-06  86.790001  87.690002  84.860001   87.339996   \n",
              "4  2023-01-09  88.360001  90.050003  87.860001   88.019997   \n",
              "\n",
              "   Fechamento_Ajustado    Volume  \n",
              "0            89.120003  28131200  \n",
              "1            88.080002  34854800  \n",
              "2            86.199997  27194400  \n",
              "3            87.339996  41381500  \n",
              "4            88.019997  29003900  "
            ]
          },
          "execution_count": 28,
          "metadata": {},
          "output_type": "execute_result"
        }
      ],
      "source": [
        "# renomeando as colunas\n",
        "dados.columns = ['Data','Abertura','Alta','Baixa','Fechamento','Fechamento_Ajustado','Volume']\n",
        "# 5 primeiros\n",
        "dados.head()"
      ]
    },
    {
      "cell_type": "code",
      "execution_count": 29,
      "metadata": {
        "colab": {
          "base_uri": "https://localhost:8080/",
          "height": 206
        },
        "id": "m_AVrK5haFoR",
        "outputId": "e0298fa6-bcf1-4d84-e1ea-b11794656f5b"
      },
      "outputs": [
        {
          "data": {
            "text/html": [
              "<div>\n",
              "<style scoped>\n",
              "    .dataframe tbody tr th:only-of-type {\n",
              "        vertical-align: middle;\n",
              "    }\n",
              "\n",
              "    .dataframe tbody tr th {\n",
              "        vertical-align: top;\n",
              "    }\n",
              "\n",
              "    .dataframe thead th {\n",
              "        text-align: right;\n",
              "    }\n",
              "</style>\n",
              "<table border=\"1\" class=\"dataframe\">\n",
              "  <thead>\n",
              "    <tr style=\"text-align: right;\">\n",
              "      <th></th>\n",
              "      <th>Data</th>\n",
              "      <th>Abertura</th>\n",
              "      <th>Alta</th>\n",
              "      <th>Baixa</th>\n",
              "      <th>Fechamento</th>\n",
              "      <th>Fechamento_Ajustado</th>\n",
              "      <th>Volume</th>\n",
              "    </tr>\n",
              "  </thead>\n",
              "  <tbody>\n",
              "    <tr>\n",
              "      <th>138</th>\n",
              "      <td>2023-07-24</td>\n",
              "      <td>121.660004</td>\n",
              "      <td>123.000000</td>\n",
              "      <td>120.980003</td>\n",
              "      <td>121.529999</td>\n",
              "      <td>121.529999</td>\n",
              "      <td>29686100</td>\n",
              "    </tr>\n",
              "    <tr>\n",
              "      <th>139</th>\n",
              "      <td>2023-07-25</td>\n",
              "      <td>121.360001</td>\n",
              "      <td>123.150002</td>\n",
              "      <td>121.019997</td>\n",
              "      <td>122.209999</td>\n",
              "      <td>122.209999</td>\n",
              "      <td>52509600</td>\n",
              "    </tr>\n",
              "    <tr>\n",
              "      <th>140</th>\n",
              "      <td>2023-07-26</td>\n",
              "      <td>130.070007</td>\n",
              "      <td>130.979996</td>\n",
              "      <td>128.320007</td>\n",
              "      <td>129.270004</td>\n",
              "      <td>129.270004</td>\n",
              "      <td>61682100</td>\n",
              "    </tr>\n",
              "    <tr>\n",
              "      <th>141</th>\n",
              "      <td>2023-07-27</td>\n",
              "      <td>131.669998</td>\n",
              "      <td>133.240005</td>\n",
              "      <td>128.789993</td>\n",
              "      <td>129.399994</td>\n",
              "      <td>129.399994</td>\n",
              "      <td>44952100</td>\n",
              "    </tr>\n",
              "    <tr>\n",
              "      <th>142</th>\n",
              "      <td>2023-07-28</td>\n",
              "      <td>130.779999</td>\n",
              "      <td>133.740005</td>\n",
              "      <td>130.570007</td>\n",
              "      <td>132.580002</td>\n",
              "      <td>132.580002</td>\n",
              "      <td>36572900</td>\n",
              "    </tr>\n",
              "  </tbody>\n",
              "</table>\n",
              "</div>"
            ],
            "text/plain": [
              "           Data    Abertura        Alta       Baixa  Fechamento  \\\n",
              "138  2023-07-24  121.660004  123.000000  120.980003  121.529999   \n",
              "139  2023-07-25  121.360001  123.150002  121.019997  122.209999   \n",
              "140  2023-07-26  130.070007  130.979996  128.320007  129.270004   \n",
              "141  2023-07-27  131.669998  133.240005  128.789993  129.399994   \n",
              "142  2023-07-28  130.779999  133.740005  130.570007  132.580002   \n",
              "\n",
              "     Fechamento_Ajustado    Volume  \n",
              "138           121.529999  29686100  \n",
              "139           122.209999  52509600  \n",
              "140           129.270004  61682100  \n",
              "141           129.399994  44952100  \n",
              "142           132.580002  36572900  "
            ]
          },
          "execution_count": 29,
          "metadata": {},
          "output_type": "execute_result"
        }
      ],
      "source": [
        "# 5 últimos\n",
        "dados.tail()"
      ]
    },
    {
      "cell_type": "markdown",
      "metadata": {
        "id": "PCIO2RT6Ywfj"
      },
      "source": [
        "Agora vamos verificar se os dados posuem valores nulos."
      ]
    },
    {
      "cell_type": "code",
      "execution_count": 6,
      "metadata": {
        "colab": {
          "base_uri": "https://localhost:8080/"
        },
        "id": "4ks34EVJYbMM",
        "outputId": "211f3937-b0fa-4719-87bd-1d1976f5facb"
      },
      "outputs": [
        {
          "name": "stdout",
          "output_type": "stream",
          "text": [
            "Não há valores nulos na tabela.\n"
          ]
        }
      ],
      "source": [
        "valores_nulos = dados.isnull().values.any()\n",
        "\n",
        "if valores_nulos:\n",
        "  print('Há valores nulos na tabela!')\n",
        "else:\n",
        "  print('Não há valores nulos na tabela.')"
      ]
    },
    {
      "cell_type": "markdown",
      "metadata": {
        "id": "lw0kGeqWZhiK"
      },
      "source": [
        "Vamos conhecer melhor o conjunto de dados"
      ]
    },
    {
      "cell_type": "code",
      "execution_count": 7,
      "metadata": {
        "colab": {
          "base_uri": "https://localhost:8080/"
        },
        "id": "S01bli0jZ1TZ",
        "outputId": "ecd71e50-934c-401c-f9c5-d7a28dd5d5ef"
      },
      "outputs": [
        {
          "name": "stdout",
          "output_type": "stream",
          "text": [
            "<class 'pandas.core.frame.DataFrame'>\n",
            "RangeIndex: 143 entries, 0 to 142\n",
            "Data columns (total 7 columns):\n",
            " #   Column     Non-Null Count  Dtype  \n",
            "---  ------     --------------  -----  \n",
            " 0   Date       143 non-null    object \n",
            " 1   Open       143 non-null    float64\n",
            " 2   High       143 non-null    float64\n",
            " 3   Low        143 non-null    float64\n",
            " 4   Close      143 non-null    float64\n",
            " 5   Adj Close  143 non-null    float64\n",
            " 6   Volume     143 non-null    int64  \n",
            "dtypes: float64(5), int64(1), object(1)\n",
            "memory usage: 7.9+ KB\n"
          ]
        }
      ],
      "source": [
        "dados.info()"
      ]
    },
    {
      "cell_type": "code",
      "execution_count": 8,
      "metadata": {
        "colab": {
          "base_uri": "https://localhost:8080/"
        },
        "id": "gQJmAN1HZ5Gc",
        "outputId": "24ed13f9-d506-4bb6-c3ed-cc729eb5560a"
      },
      "outputs": [
        {
          "data": {
            "text/plain": [
              "(143, 7)"
            ]
          },
          "execution_count": 8,
          "metadata": {},
          "output_type": "execute_result"
        }
      ],
      "source": [
        "dados.shape"
      ]
    },
    {
      "cell_type": "code",
      "execution_count": 9,
      "metadata": {
        "colab": {
          "base_uri": "https://localhost:8080/"
        },
        "id": "QQQ2g5UxbBzf",
        "outputId": "1d4d0d2c-9261-489b-992d-7e515808c1a4"
      },
      "outputs": [
        {
          "data": {
            "text/plain": [
              "Index(['Date', 'Open', 'High', 'Low', 'Close', 'Adj Close', 'Volume'], dtype='object')"
            ]
          },
          "execution_count": 9,
          "metadata": {},
          "output_type": "execute_result"
        }
      ],
      "source": [
        "dados.columns"
      ]
    },
    {
      "cell_type": "code",
      "execution_count": 10,
      "metadata": {
        "colab": {
          "base_uri": "https://localhost:8080/"
        },
        "id": "5a4dQ0dcbIJ1",
        "outputId": "0b6eb3b7-eced-4381-95f3-e7e794abaf9d"
      },
      "outputs": [
        {
          "data": {
            "text/plain": [
              "RangeIndex(start=0, stop=143, step=1)"
            ]
          },
          "execution_count": 10,
          "metadata": {},
          "output_type": "execute_result"
        }
      ],
      "source": [
        "dados.index"
      ]
    },
    {
      "cell_type": "code",
      "execution_count": 11,
      "metadata": {
        "colab": {
          "base_uri": "https://localhost:8080/",
          "height": 237
        },
        "id": "Abv_75gaZ8Xy",
        "outputId": "23c03a5b-a7ac-4c84-d9c6-d4f73ec98d20"
      },
      "outputs": [
        {
          "data": {
            "text/html": [
              "<div>\n",
              "<style scoped>\n",
              "    .dataframe tbody tr th:only-of-type {\n",
              "        vertical-align: middle;\n",
              "    }\n",
              "\n",
              "    .dataframe tbody tr th {\n",
              "        vertical-align: top;\n",
              "    }\n",
              "\n",
              "    .dataframe thead th {\n",
              "        text-align: right;\n",
              "    }\n",
              "</style>\n",
              "<table border=\"1\" class=\"dataframe\">\n",
              "  <thead>\n",
              "    <tr style=\"text-align: right;\">\n",
              "      <th></th>\n",
              "      <th>count</th>\n",
              "      <th>mean</th>\n",
              "      <th>std</th>\n",
              "      <th>min</th>\n",
              "      <th>25%</th>\n",
              "      <th>50%</th>\n",
              "      <th>75%</th>\n",
              "      <th>max</th>\n",
              "    </tr>\n",
              "  </thead>\n",
              "  <tbody>\n",
              "    <tr>\n",
              "      <th>Open</th>\n",
              "      <td>143.0</td>\n",
              "      <td>1.074613e+02</td>\n",
              "      <td>1.270458e+01</td>\n",
              "      <td>8.598000e+01</td>\n",
              "      <td>9.551000e+01</td>\n",
              "      <td>1.054700e+02</td>\n",
              "      <td>1.206900e+02</td>\n",
              "      <td>1.316700e+02</td>\n",
              "    </tr>\n",
              "    <tr>\n",
              "      <th>High</th>\n",
              "      <td>143.0</td>\n",
              "      <td>1.090366e+02</td>\n",
              "      <td>1.279908e+01</td>\n",
              "      <td>8.757000e+01</td>\n",
              "      <td>9.762500e+01</td>\n",
              "      <td>1.066900e+02</td>\n",
              "      <td>1.223050e+02</td>\n",
              "      <td>1.337400e+02</td>\n",
              "    </tr>\n",
              "    <tr>\n",
              "      <th>Low</th>\n",
              "      <td>143.0</td>\n",
              "      <td>1.063517e+02</td>\n",
              "      <td>1.261059e+01</td>\n",
              "      <td>8.486000e+01</td>\n",
              "      <td>9.449500e+01</td>\n",
              "      <td>1.041100e+02</td>\n",
              "      <td>1.193150e+02</td>\n",
              "      <td>1.305700e+02</td>\n",
              "    </tr>\n",
              "    <tr>\n",
              "      <th>Close</th>\n",
              "      <td>143.0</td>\n",
              "      <td>1.077822e+02</td>\n",
              "      <td>1.262081e+01</td>\n",
              "      <td>8.620000e+01</td>\n",
              "      <td>9.652500e+01</td>\n",
              "      <td>1.054100e+02</td>\n",
              "      <td>1.206950e+02</td>\n",
              "      <td>1.325800e+02</td>\n",
              "    </tr>\n",
              "    <tr>\n",
              "      <th>Adj Close</th>\n",
              "      <td>143.0</td>\n",
              "      <td>1.077822e+02</td>\n",
              "      <td>1.262081e+01</td>\n",
              "      <td>8.620000e+01</td>\n",
              "      <td>9.652500e+01</td>\n",
              "      <td>1.054100e+02</td>\n",
              "      <td>1.206950e+02</td>\n",
              "      <td>1.325800e+02</td>\n",
              "    </tr>\n",
              "    <tr>\n",
              "      <th>Volume</th>\n",
              "      <td>143.0</td>\n",
              "      <td>3.669292e+07</td>\n",
              "      <td>1.415642e+07</td>\n",
              "      <td>1.446790e+07</td>\n",
              "      <td>2.770280e+07</td>\n",
              "      <td>3.326680e+07</td>\n",
              "      <td>4.093580e+07</td>\n",
              "      <td>1.194550e+08</td>\n",
              "    </tr>\n",
              "  </tbody>\n",
              "</table>\n",
              "</div>"
            ],
            "text/plain": [
              "           count          mean           std           min           25%  \\\n",
              "Open       143.0  1.074613e+02  1.270458e+01  8.598000e+01  9.551000e+01   \n",
              "High       143.0  1.090366e+02  1.279908e+01  8.757000e+01  9.762500e+01   \n",
              "Low        143.0  1.063517e+02  1.261059e+01  8.486000e+01  9.449500e+01   \n",
              "Close      143.0  1.077822e+02  1.262081e+01  8.620000e+01  9.652500e+01   \n",
              "Adj Close  143.0  1.077822e+02  1.262081e+01  8.620000e+01  9.652500e+01   \n",
              "Volume     143.0  3.669292e+07  1.415642e+07  1.446790e+07  2.770280e+07   \n",
              "\n",
              "                    50%           75%           max  \n",
              "Open       1.054700e+02  1.206900e+02  1.316700e+02  \n",
              "High       1.066900e+02  1.223050e+02  1.337400e+02  \n",
              "Low        1.041100e+02  1.193150e+02  1.305700e+02  \n",
              "Close      1.054100e+02  1.206950e+02  1.325800e+02  \n",
              "Adj Close  1.054100e+02  1.206950e+02  1.325800e+02  \n",
              "Volume     3.326680e+07  4.093580e+07  1.194550e+08  "
            ]
          },
          "execution_count": 11,
          "metadata": {},
          "output_type": "execute_result"
        }
      ],
      "source": [
        "dados.describe().T"
      ]
    },
    {
      "cell_type": "code",
      "execution_count": 12,
      "metadata": {
        "colab": {
          "base_uri": "https://localhost:8080/"
        },
        "id": "FId0ysS4aSQZ",
        "outputId": "3a4c6652-130d-4fc8-b8b7-2188e884e60a"
      },
      "outputs": [
        {
          "data": {
            "text/plain": [
              "count            143\n",
              "unique           143\n",
              "top       2023-01-03\n",
              "freq               1\n",
              "Name: Date, dtype: object"
            ]
          },
          "execution_count": 12,
          "metadata": {},
          "output_type": "execute_result"
        }
      ],
      "source": [
        "dados[\"Date\"].describe().T"
      ]
    },
    {
      "cell_type": "code",
      "execution_count": 42,
      "metadata": {},
      "outputs": [],
      "source": [
        "# Set the locale to pt_BR\n",
        "locale.setlocale(locale.LC_TIME, 'pt_BR.utf8')\n",
        "\n",
        "# Convert the 'Date' column to datetime\n",
        "dados['Data'] = pd.to_datetime(dados['Data'])\n",
        "\n",
        "# Create a new column 'Month' with the month names in Portuguese\n",
        "dados['Mês'] = dados['Data'].dt.strftime('%B')\n",
        "\n",
        "# Create a new column 'Day' with the day values\n",
        "dados['Dia'] = dados['Data'].dt.day\n",
        "\n",
        "dados['Ano'] = dados['Data'].dt.year\n"
      ]
    },
    {
      "cell_type": "code",
      "execution_count": 43,
      "metadata": {},
      "outputs": [
        {
          "data": {
            "text/html": [
              "<div>\n",
              "<style scoped>\n",
              "    .dataframe tbody tr th:only-of-type {\n",
              "        vertical-align: middle;\n",
              "    }\n",
              "\n",
              "    .dataframe tbody tr th {\n",
              "        vertical-align: top;\n",
              "    }\n",
              "\n",
              "    .dataframe thead th {\n",
              "        text-align: right;\n",
              "    }\n",
              "</style>\n",
              "<table border=\"1\" class=\"dataframe\">\n",
              "  <thead>\n",
              "    <tr style=\"text-align: right;\">\n",
              "      <th></th>\n",
              "      <th>Data</th>\n",
              "      <th>Abertura</th>\n",
              "      <th>Alta</th>\n",
              "      <th>Baixa</th>\n",
              "      <th>Fechamento</th>\n",
              "      <th>Fechamento_Ajustado</th>\n",
              "      <th>Volume</th>\n",
              "      <th>Mês</th>\n",
              "      <th>Dia</th>\n",
              "      <th>Ano</th>\n",
              "    </tr>\n",
              "  </thead>\n",
              "  <tbody>\n",
              "    <tr>\n",
              "      <th>0</th>\n",
              "      <td>2023-01-03</td>\n",
              "      <td>89.589996</td>\n",
              "      <td>91.050003</td>\n",
              "      <td>88.519997</td>\n",
              "      <td>89.120003</td>\n",
              "      <td>89.120003</td>\n",
              "      <td>28131200</td>\n",
              "      <td>janeiro</td>\n",
              "      <td>3</td>\n",
              "      <td>2023</td>\n",
              "    </tr>\n",
              "    <tr>\n",
              "      <th>1</th>\n",
              "      <td>2023-01-04</td>\n",
              "      <td>90.349998</td>\n",
              "      <td>90.650002</td>\n",
              "      <td>87.269997</td>\n",
              "      <td>88.080002</td>\n",
              "      <td>88.080002</td>\n",
              "      <td>34854800</td>\n",
              "      <td>janeiro</td>\n",
              "      <td>4</td>\n",
              "      <td>2023</td>\n",
              "    </tr>\n",
              "    <tr>\n",
              "      <th>2</th>\n",
              "      <td>2023-01-05</td>\n",
              "      <td>87.470001</td>\n",
              "      <td>87.570000</td>\n",
              "      <td>85.900002</td>\n",
              "      <td>86.199997</td>\n",
              "      <td>86.199997</td>\n",
              "      <td>27194400</td>\n",
              "      <td>janeiro</td>\n",
              "      <td>5</td>\n",
              "      <td>2023</td>\n",
              "    </tr>\n",
              "    <tr>\n",
              "      <th>3</th>\n",
              "      <td>2023-01-06</td>\n",
              "      <td>86.790001</td>\n",
              "      <td>87.690002</td>\n",
              "      <td>84.860001</td>\n",
              "      <td>87.339996</td>\n",
              "      <td>87.339996</td>\n",
              "      <td>41381500</td>\n",
              "      <td>janeiro</td>\n",
              "      <td>6</td>\n",
              "      <td>2023</td>\n",
              "    </tr>\n",
              "    <tr>\n",
              "      <th>4</th>\n",
              "      <td>2023-01-09</td>\n",
              "      <td>88.360001</td>\n",
              "      <td>90.050003</td>\n",
              "      <td>87.860001</td>\n",
              "      <td>88.019997</td>\n",
              "      <td>88.019997</td>\n",
              "      <td>29003900</td>\n",
              "      <td>janeiro</td>\n",
              "      <td>9</td>\n",
              "      <td>2023</td>\n",
              "    </tr>\n",
              "  </tbody>\n",
              "</table>\n",
              "</div>"
            ],
            "text/plain": [
              "        Data   Abertura       Alta      Baixa  Fechamento  \\\n",
              "0 2023-01-03  89.589996  91.050003  88.519997   89.120003   \n",
              "1 2023-01-04  90.349998  90.650002  87.269997   88.080002   \n",
              "2 2023-01-05  87.470001  87.570000  85.900002   86.199997   \n",
              "3 2023-01-06  86.790001  87.690002  84.860001   87.339996   \n",
              "4 2023-01-09  88.360001  90.050003  87.860001   88.019997   \n",
              "\n",
              "   Fechamento_Ajustado    Volume      Mês  Dia   Ano  \n",
              "0            89.120003  28131200  janeiro    3  2023  \n",
              "1            88.080002  34854800  janeiro    4  2023  \n",
              "2            86.199997  27194400  janeiro    5  2023  \n",
              "3            87.339996  41381500  janeiro    6  2023  \n",
              "4            88.019997  29003900  janeiro    9  2023  "
            ]
          },
          "execution_count": 43,
          "metadata": {},
          "output_type": "execute_result"
        }
      ],
      "source": [
        "dados.head()"
      ]
    },
    {
      "cell_type": "markdown",
      "metadata": {},
      "source": [
        "#Calculando#"
      ]
    },
    {
      "cell_type": "code",
      "execution_count": 68,
      "metadata": {},
      "outputs": [
        {
          "data": {
            "text/plain": [
              "(143, 12)"
            ]
          },
          "execution_count": 68,
          "metadata": {},
          "output_type": "execute_result"
        }
      ],
      "source": [
        "dados.shape"
      ]
    },
    {
      "cell_type": "markdown",
      "metadata": {},
      "source": [
        "**Cálculo de Retorno**\n"
      ]
    },
    {
      "cell_type": "code",
      "execution_count": 80,
      "metadata": {},
      "outputs": [
        {
          "data": {
            "text/html": [
              "<div>\n",
              "<style scoped>\n",
              "    .dataframe tbody tr th:only-of-type {\n",
              "        vertical-align: middle;\n",
              "    }\n",
              "\n",
              "    .dataframe tbody tr th {\n",
              "        vertical-align: top;\n",
              "    }\n",
              "\n",
              "    .dataframe thead th {\n",
              "        text-align: right;\n",
              "    }\n",
              "</style>\n",
              "<table border=\"1\" class=\"dataframe\">\n",
              "  <thead>\n",
              "    <tr style=\"text-align: right;\">\n",
              "      <th></th>\n",
              "      <th>Data</th>\n",
              "      <th>Abertura</th>\n",
              "      <th>Alta</th>\n",
              "      <th>Baixa</th>\n",
              "      <th>Fechamento</th>\n",
              "      <th>Fechamento_Ajustado</th>\n",
              "      <th>Volume</th>\n",
              "      <th>Mês</th>\n",
              "      <th>Dia</th>\n",
              "      <th>Ano</th>\n",
              "      <th>Retorno</th>\n",
              "      <th>Volatividade</th>\n",
              "      <th>Return</th>\n",
              "      <th>20_Day_MA</th>\n",
              "    </tr>\n",
              "  </thead>\n",
              "  <tbody>\n",
              "    <tr>\n",
              "      <th>138</th>\n",
              "      <td>2023-07-24</td>\n",
              "      <td>121.660004</td>\n",
              "      <td>123.000000</td>\n",
              "      <td>120.980003</td>\n",
              "      <td>121.529999</td>\n",
              "      <td>121.529999</td>\n",
              "      <td>29686100</td>\n",
              "      <td>julho</td>\n",
              "      <td>24</td>\n",
              "      <td>2023</td>\n",
              "      <td>0.012581</td>\n",
              "      <td>0.080020</td>\n",
              "      <td>0.012581</td>\n",
              "      <td>120.528000</td>\n",
              "    </tr>\n",
              "    <tr>\n",
              "      <th>139</th>\n",
              "      <td>2023-07-25</td>\n",
              "      <td>121.360001</td>\n",
              "      <td>123.150002</td>\n",
              "      <td>121.019997</td>\n",
              "      <td>122.209999</td>\n",
              "      <td>122.209999</td>\n",
              "      <td>52509600</td>\n",
              "      <td>julho</td>\n",
              "      <td>25</td>\n",
              "      <td>2023</td>\n",
              "      <td>0.005595</td>\n",
              "      <td>0.072445</td>\n",
              "      <td>0.005595</td>\n",
              "      <td>120.721500</td>\n",
              "    </tr>\n",
              "    <tr>\n",
              "      <th>140</th>\n",
              "      <td>2023-07-26</td>\n",
              "      <td>130.070007</td>\n",
              "      <td>130.979996</td>\n",
              "      <td>128.320007</td>\n",
              "      <td>129.270004</td>\n",
              "      <td>129.270004</td>\n",
              "      <td>61682100</td>\n",
              "      <td>julho</td>\n",
              "      <td>26</td>\n",
              "      <td>2023</td>\n",
              "      <td>0.057769</td>\n",
              "      <td>0.091509</td>\n",
              "      <td>0.057769</td>\n",
              "      <td>121.268500</td>\n",
              "    </tr>\n",
              "    <tr>\n",
              "      <th>141</th>\n",
              "      <td>2023-07-27</td>\n",
              "      <td>131.669998</td>\n",
              "      <td>133.240005</td>\n",
              "      <td>128.789993</td>\n",
              "      <td>129.399994</td>\n",
              "      <td>129.399994</td>\n",
              "      <td>44952100</td>\n",
              "      <td>julho</td>\n",
              "      <td>27</td>\n",
              "      <td>2023</td>\n",
              "      <td>0.001006</td>\n",
              "      <td>0.090823</td>\n",
              "      <td>0.001006</td>\n",
              "      <td>121.729499</td>\n",
              "    </tr>\n",
              "    <tr>\n",
              "      <th>142</th>\n",
              "      <td>2023-07-28</td>\n",
              "      <td>130.779999</td>\n",
              "      <td>133.740005</td>\n",
              "      <td>130.570007</td>\n",
              "      <td>132.580002</td>\n",
              "      <td>132.580002</td>\n",
              "      <td>36572900</td>\n",
              "      <td>julho</td>\n",
              "      <td>28</td>\n",
              "      <td>2023</td>\n",
              "      <td>0.024575</td>\n",
              "      <td>0.092006</td>\n",
              "      <td>0.024575</td>\n",
              "      <td>122.403500</td>\n",
              "    </tr>\n",
              "  </tbody>\n",
              "</table>\n",
              "</div>"
            ],
            "text/plain": [
              "          Data    Abertura        Alta       Baixa  Fechamento  \\\n",
              "138 2023-07-24  121.660004  123.000000  120.980003  121.529999   \n",
              "139 2023-07-25  121.360001  123.150002  121.019997  122.209999   \n",
              "140 2023-07-26  130.070007  130.979996  128.320007  129.270004   \n",
              "141 2023-07-27  131.669998  133.240005  128.789993  129.399994   \n",
              "142 2023-07-28  130.779999  133.740005  130.570007  132.580002   \n",
              "\n",
              "     Fechamento_Ajustado    Volume    Mês  Dia   Ano   Retorno  Volatividade  \\\n",
              "138           121.529999  29686100  julho   24  2023  0.012581      0.080020   \n",
              "139           122.209999  52509600  julho   25  2023  0.005595      0.072445   \n",
              "140           129.270004  61682100  julho   26  2023  0.057769      0.091509   \n",
              "141           129.399994  44952100  julho   27  2023  0.001006      0.090823   \n",
              "142           132.580002  36572900  julho   28  2023  0.024575      0.092006   \n",
              "\n",
              "       Return   20_Day_MA  \n",
              "138  0.012581  120.528000  \n",
              "139  0.005595  120.721500  \n",
              "140  0.057769  121.268500  \n",
              "141  0.001006  121.729499  \n",
              "142  0.024575  122.403500  "
            ]
          },
          "execution_count": 80,
          "metadata": {},
          "output_type": "execute_result"
        }
      ],
      "source": [
        "dados['Retorno'] = dados['Fechamento'].pct_change()\n",
        "dados.tail()"
      ]
    },
    {
      "cell_type": "markdown",
      "metadata": {},
      "source": [
        "**Análise de Volatividade**"
      ]
    },
    {
      "cell_type": "code",
      "execution_count": 79,
      "metadata": {},
      "outputs": [
        {
          "data": {
            "text/html": [
              "<div>\n",
              "<style scoped>\n",
              "    .dataframe tbody tr th:only-of-type {\n",
              "        vertical-align: middle;\n",
              "    }\n",
              "\n",
              "    .dataframe tbody tr th {\n",
              "        vertical-align: top;\n",
              "    }\n",
              "\n",
              "    .dataframe thead th {\n",
              "        text-align: right;\n",
              "    }\n",
              "</style>\n",
              "<table border=\"1\" class=\"dataframe\">\n",
              "  <thead>\n",
              "    <tr style=\"text-align: right;\">\n",
              "      <th></th>\n",
              "      <th>Data</th>\n",
              "      <th>Abertura</th>\n",
              "      <th>Alta</th>\n",
              "      <th>Baixa</th>\n",
              "      <th>Fechamento</th>\n",
              "      <th>Fechamento_Ajustado</th>\n",
              "      <th>Volume</th>\n",
              "      <th>Mês</th>\n",
              "      <th>Dia</th>\n",
              "      <th>Ano</th>\n",
              "      <th>Retorno</th>\n",
              "      <th>Volatividade</th>\n",
              "      <th>Return</th>\n",
              "      <th>20_Day_MA</th>\n",
              "    </tr>\n",
              "  </thead>\n",
              "  <tbody>\n",
              "    <tr>\n",
              "      <th>138</th>\n",
              "      <td>2023-07-24</td>\n",
              "      <td>121.660004</td>\n",
              "      <td>123.000000</td>\n",
              "      <td>120.980003</td>\n",
              "      <td>121.529999</td>\n",
              "      <td>121.529999</td>\n",
              "      <td>29686100</td>\n",
              "      <td>julho</td>\n",
              "      <td>24</td>\n",
              "      <td>2023</td>\n",
              "      <td>0.012581</td>\n",
              "      <td>0.080020</td>\n",
              "      <td>0.012581</td>\n",
              "      <td>120.528000</td>\n",
              "    </tr>\n",
              "    <tr>\n",
              "      <th>139</th>\n",
              "      <td>2023-07-25</td>\n",
              "      <td>121.360001</td>\n",
              "      <td>123.150002</td>\n",
              "      <td>121.019997</td>\n",
              "      <td>122.209999</td>\n",
              "      <td>122.209999</td>\n",
              "      <td>52509600</td>\n",
              "      <td>julho</td>\n",
              "      <td>25</td>\n",
              "      <td>2023</td>\n",
              "      <td>0.005595</td>\n",
              "      <td>0.072445</td>\n",
              "      <td>0.005595</td>\n",
              "      <td>120.721500</td>\n",
              "    </tr>\n",
              "    <tr>\n",
              "      <th>140</th>\n",
              "      <td>2023-07-26</td>\n",
              "      <td>130.070007</td>\n",
              "      <td>130.979996</td>\n",
              "      <td>128.320007</td>\n",
              "      <td>129.270004</td>\n",
              "      <td>129.270004</td>\n",
              "      <td>61682100</td>\n",
              "      <td>julho</td>\n",
              "      <td>26</td>\n",
              "      <td>2023</td>\n",
              "      <td>0.057769</td>\n",
              "      <td>0.091509</td>\n",
              "      <td>0.057769</td>\n",
              "      <td>121.268500</td>\n",
              "    </tr>\n",
              "    <tr>\n",
              "      <th>141</th>\n",
              "      <td>2023-07-27</td>\n",
              "      <td>131.669998</td>\n",
              "      <td>133.240005</td>\n",
              "      <td>128.789993</td>\n",
              "      <td>129.399994</td>\n",
              "      <td>129.399994</td>\n",
              "      <td>44952100</td>\n",
              "      <td>julho</td>\n",
              "      <td>27</td>\n",
              "      <td>2023</td>\n",
              "      <td>0.001006</td>\n",
              "      <td>0.090823</td>\n",
              "      <td>0.001006</td>\n",
              "      <td>121.729499</td>\n",
              "    </tr>\n",
              "    <tr>\n",
              "      <th>142</th>\n",
              "      <td>2023-07-28</td>\n",
              "      <td>130.779999</td>\n",
              "      <td>133.740005</td>\n",
              "      <td>130.570007</td>\n",
              "      <td>132.580002</td>\n",
              "      <td>132.580002</td>\n",
              "      <td>36572900</td>\n",
              "      <td>julho</td>\n",
              "      <td>28</td>\n",
              "      <td>2023</td>\n",
              "      <td>0.024575</td>\n",
              "      <td>0.092006</td>\n",
              "      <td>0.024575</td>\n",
              "      <td>122.403500</td>\n",
              "    </tr>\n",
              "  </tbody>\n",
              "</table>\n",
              "</div>"
            ],
            "text/plain": [
              "          Data    Abertura        Alta       Baixa  Fechamento  \\\n",
              "138 2023-07-24  121.660004  123.000000  120.980003  121.529999   \n",
              "139 2023-07-25  121.360001  123.150002  121.019997  122.209999   \n",
              "140 2023-07-26  130.070007  130.979996  128.320007  129.270004   \n",
              "141 2023-07-27  131.669998  133.240005  128.789993  129.399994   \n",
              "142 2023-07-28  130.779999  133.740005  130.570007  132.580002   \n",
              "\n",
              "     Fechamento_Ajustado    Volume    Mês  Dia   Ano   Retorno  Volatividade  \\\n",
              "138           121.529999  29686100  julho   24  2023  0.012581      0.080020   \n",
              "139           122.209999  52509600  julho   25  2023  0.005595      0.072445   \n",
              "140           129.270004  61682100  julho   26  2023  0.057769      0.091509   \n",
              "141           129.399994  44952100  julho   27  2023  0.001006      0.090823   \n",
              "142           132.580002  36572900  julho   28  2023  0.024575      0.092006   \n",
              "\n",
              "       Return   20_Day_MA  \n",
              "138  0.012581  120.528000  \n",
              "139  0.005595  120.721500  \n",
              "140  0.057769  121.268500  \n",
              "141  0.001006  121.729499  \n",
              "142  0.024575  122.403500  "
            ]
          },
          "execution_count": 79,
          "metadata": {},
          "output_type": "execute_result"
        }
      ],
      "source": [
        "dados['Volatividade'] = dados['Retorno'].rolling(window=20).std() * np.sqrt(20)\n",
        "dados.tail()"
      ]
    },
    {
      "cell_type": "markdown",
      "metadata": {},
      "source": [
        "**Médias móveis**"
      ]
    },
    {
      "cell_type": "code",
      "execution_count": 76,
      "metadata": {},
      "outputs": [],
      "source": [
        "dados['20_Day_MA'] = dados['Fechamento'].rolling(window=20).mean()\n"
      ]
    },
    {
      "cell_type": "code",
      "execution_count": 78,
      "metadata": {},
      "outputs": [
        {
          "data": {
            "text/html": [
              "<div>\n",
              "<style scoped>\n",
              "    .dataframe tbody tr th:only-of-type {\n",
              "        vertical-align: middle;\n",
              "    }\n",
              "\n",
              "    .dataframe tbody tr th {\n",
              "        vertical-align: top;\n",
              "    }\n",
              "\n",
              "    .dataframe thead th {\n",
              "        text-align: right;\n",
              "    }\n",
              "</style>\n",
              "<table border=\"1\" class=\"dataframe\">\n",
              "  <thead>\n",
              "    <tr style=\"text-align: right;\">\n",
              "      <th></th>\n",
              "      <th>Data</th>\n",
              "      <th>Abertura</th>\n",
              "      <th>Alta</th>\n",
              "      <th>Baixa</th>\n",
              "      <th>Fechamento</th>\n",
              "      <th>Fechamento_Ajustado</th>\n",
              "      <th>Volume</th>\n",
              "      <th>Mês</th>\n",
              "      <th>Dia</th>\n",
              "      <th>Ano</th>\n",
              "      <th>Retorno</th>\n",
              "      <th>Volatividade</th>\n",
              "      <th>Return</th>\n",
              "      <th>20_Day_MA</th>\n",
              "    </tr>\n",
              "  </thead>\n",
              "  <tbody>\n",
              "    <tr>\n",
              "      <th>138</th>\n",
              "      <td>2023-07-24</td>\n",
              "      <td>121.660004</td>\n",
              "      <td>123.000000</td>\n",
              "      <td>120.980003</td>\n",
              "      <td>121.529999</td>\n",
              "      <td>121.529999</td>\n",
              "      <td>29686100</td>\n",
              "      <td>julho</td>\n",
              "      <td>24</td>\n",
              "      <td>2023</td>\n",
              "      <td>0.012581</td>\n",
              "      <td>0.080020</td>\n",
              "      <td>0.012581</td>\n",
              "      <td>120.528000</td>\n",
              "    </tr>\n",
              "    <tr>\n",
              "      <th>139</th>\n",
              "      <td>2023-07-25</td>\n",
              "      <td>121.360001</td>\n",
              "      <td>123.150002</td>\n",
              "      <td>121.019997</td>\n",
              "      <td>122.209999</td>\n",
              "      <td>122.209999</td>\n",
              "      <td>52509600</td>\n",
              "      <td>julho</td>\n",
              "      <td>25</td>\n",
              "      <td>2023</td>\n",
              "      <td>0.005595</td>\n",
              "      <td>0.072445</td>\n",
              "      <td>0.005595</td>\n",
              "      <td>120.721500</td>\n",
              "    </tr>\n",
              "    <tr>\n",
              "      <th>140</th>\n",
              "      <td>2023-07-26</td>\n",
              "      <td>130.070007</td>\n",
              "      <td>130.979996</td>\n",
              "      <td>128.320007</td>\n",
              "      <td>129.270004</td>\n",
              "      <td>129.270004</td>\n",
              "      <td>61682100</td>\n",
              "      <td>julho</td>\n",
              "      <td>26</td>\n",
              "      <td>2023</td>\n",
              "      <td>0.057769</td>\n",
              "      <td>0.091509</td>\n",
              "      <td>0.057769</td>\n",
              "      <td>121.268500</td>\n",
              "    </tr>\n",
              "    <tr>\n",
              "      <th>141</th>\n",
              "      <td>2023-07-27</td>\n",
              "      <td>131.669998</td>\n",
              "      <td>133.240005</td>\n",
              "      <td>128.789993</td>\n",
              "      <td>129.399994</td>\n",
              "      <td>129.399994</td>\n",
              "      <td>44952100</td>\n",
              "      <td>julho</td>\n",
              "      <td>27</td>\n",
              "      <td>2023</td>\n",
              "      <td>0.001006</td>\n",
              "      <td>0.090823</td>\n",
              "      <td>0.001006</td>\n",
              "      <td>121.729499</td>\n",
              "    </tr>\n",
              "    <tr>\n",
              "      <th>142</th>\n",
              "      <td>2023-07-28</td>\n",
              "      <td>130.779999</td>\n",
              "      <td>133.740005</td>\n",
              "      <td>130.570007</td>\n",
              "      <td>132.580002</td>\n",
              "      <td>132.580002</td>\n",
              "      <td>36572900</td>\n",
              "      <td>julho</td>\n",
              "      <td>28</td>\n",
              "      <td>2023</td>\n",
              "      <td>0.024575</td>\n",
              "      <td>0.092006</td>\n",
              "      <td>0.024575</td>\n",
              "      <td>122.403500</td>\n",
              "    </tr>\n",
              "  </tbody>\n",
              "</table>\n",
              "</div>"
            ],
            "text/plain": [
              "          Data    Abertura        Alta       Baixa  Fechamento  \\\n",
              "138 2023-07-24  121.660004  123.000000  120.980003  121.529999   \n",
              "139 2023-07-25  121.360001  123.150002  121.019997  122.209999   \n",
              "140 2023-07-26  130.070007  130.979996  128.320007  129.270004   \n",
              "141 2023-07-27  131.669998  133.240005  128.789993  129.399994   \n",
              "142 2023-07-28  130.779999  133.740005  130.570007  132.580002   \n",
              "\n",
              "     Fechamento_Ajustado    Volume    Mês  Dia   Ano   Retorno  Volatividade  \\\n",
              "138           121.529999  29686100  julho   24  2023  0.012581      0.080020   \n",
              "139           122.209999  52509600  julho   25  2023  0.005595      0.072445   \n",
              "140           129.270004  61682100  julho   26  2023  0.057769      0.091509   \n",
              "141           129.399994  44952100  julho   27  2023  0.001006      0.090823   \n",
              "142           132.580002  36572900  julho   28  2023  0.024575      0.092006   \n",
              "\n",
              "       Return   20_Day_MA  \n",
              "138  0.012581  120.528000  \n",
              "139  0.005595  120.721500  \n",
              "140  0.057769  121.268500  \n",
              "141  0.001006  121.729499  \n",
              "142  0.024575  122.403500  "
            ]
          },
          "execution_count": 78,
          "metadata": {},
          "output_type": "execute_result"
        }
      ],
      "source": [
        "dados.tail()"
      ]
    },
    {
      "cell_type": "markdown",
      "metadata": {
        "id": "9ufisHWcbXpW"
      },
      "source": [
        "## Visualização dos dados"
      ]
    },
    {
      "cell_type": "markdown",
      "metadata": {
        "id": "thvz9tgIcDwp"
      },
      "source": [
        "**GRÁFICO DE BARRAS**"
      ]
    },
    {
      "cell_type": "code",
      "execution_count": 13,
      "metadata": {
        "colab": {
          "base_uri": "https://localhost:8080/",
          "height": 206
        },
        "id": "JStyWytLbbuq",
        "outputId": "8a9dd30b-e8c8-4ef2-d4d1-6251911634e5"
      },
      "outputs": [
        {
          "data": {
            "text/html": [
              "<div>\n",
              "<style scoped>\n",
              "    .dataframe tbody tr th:only-of-type {\n",
              "        vertical-align: middle;\n",
              "    }\n",
              "\n",
              "    .dataframe tbody tr th {\n",
              "        vertical-align: top;\n",
              "    }\n",
              "\n",
              "    .dataframe thead th {\n",
              "        text-align: right;\n",
              "    }\n",
              "</style>\n",
              "<table border=\"1\" class=\"dataframe\">\n",
              "  <thead>\n",
              "    <tr style=\"text-align: right;\">\n",
              "      <th></th>\n",
              "      <th>Date</th>\n",
              "      <th>Open</th>\n",
              "    </tr>\n",
              "  </thead>\n",
              "  <tbody>\n",
              "    <tr>\n",
              "      <th>0</th>\n",
              "      <td>2023-01-03</td>\n",
              "      <td>89.589996</td>\n",
              "    </tr>\n",
              "    <tr>\n",
              "      <th>1</th>\n",
              "      <td>2023-01-04</td>\n",
              "      <td>90.349998</td>\n",
              "    </tr>\n",
              "    <tr>\n",
              "      <th>2</th>\n",
              "      <td>2023-01-05</td>\n",
              "      <td>87.470001</td>\n",
              "    </tr>\n",
              "    <tr>\n",
              "      <th>3</th>\n",
              "      <td>2023-01-06</td>\n",
              "      <td>86.790001</td>\n",
              "    </tr>\n",
              "    <tr>\n",
              "      <th>4</th>\n",
              "      <td>2023-01-09</td>\n",
              "      <td>88.360001</td>\n",
              "    </tr>\n",
              "  </tbody>\n",
              "</table>\n",
              "</div>"
            ],
            "text/plain": [
              "         Date       Open\n",
              "0  2023-01-03  89.589996\n",
              "1  2023-01-04  90.349998\n",
              "2  2023-01-05  87.470001\n",
              "3  2023-01-06  86.790001\n",
              "4  2023-01-09  88.360001"
            ]
          },
          "execution_count": 13,
          "metadata": {},
          "output_type": "execute_result"
        }
      ],
      "source": [
        "valor_abertura = dados[[\"Date\",\"Open\"]].groupby(\"Date\").agg(\"sum\").reset_index()\n",
        "valor_abertura.head()"
      ]
    },
    {
      "cell_type": "code",
      "execution_count": 14,
      "metadata": {
        "colab": {
          "base_uri": "https://localhost:8080/",
          "height": 430
        },
        "id": "Y5OvlQDhdLqe",
        "outputId": "0d63d074-8857-4ece-c0a6-d18f454cefbb"
      },
      "outputs": [
        {
          "data": {
            "image/png": "[encoded data removed]",
            "text/plain": [
              "<Figure size 640x480 with 1 Axes>"
            ]
          },
          "metadata": {},
          "output_type": "display_data"
        }
      ],
      "source": [
        "palette = sns.color_palette(\"gray\", as_cmap=False)\n",
        "grafico = sns.barplot(data=valor_abertura, x='Open',y='Date', palette=palette, errorbar=None)\n",
        "plt.show()"
      ]
    },
    {
      "cell_type": "markdown",
      "metadata": {},
      "source": [
        "**Gráfico**"
      ]
    },
    {
      "cell_type": "code",
      "execution_count": 16,
      "metadata": {},
      "outputs": [
        {
          "data": {
            "text/html": [
              "<div>\n",
              "<style scoped>\n",
              "    .dataframe tbody tr th:only-of-type {\n",
              "        vertical-align: middle;\n",
              "    }\n",
              "\n",
              "    .dataframe tbody tr th {\n",
              "        vertical-align: top;\n",
              "    }\n",
              "\n",
              "    .dataframe thead th {\n",
              "        text-align: right;\n",
              "    }\n",
              "</style>\n",
              "<table border=\"1\" class=\"dataframe\">\n",
              "  <thead>\n",
              "    <tr style=\"text-align: right;\">\n",
              "      <th></th>\n",
              "      <th>Date</th>\n",
              "      <th>Low</th>\n",
              "      <th>High</th>\n",
              "    </tr>\n",
              "  </thead>\n",
              "  <tbody>\n",
              "    <tr>\n",
              "      <th>0</th>\n",
              "      <td>2023-01-03</td>\n",
              "      <td>88.519997</td>\n",
              "      <td>91.050003</td>\n",
              "    </tr>\n",
              "    <tr>\n",
              "      <th>1</th>\n",
              "      <td>2023-01-04</td>\n",
              "      <td>87.269997</td>\n",
              "      <td>90.650002</td>\n",
              "    </tr>\n",
              "    <tr>\n",
              "      <th>2</th>\n",
              "      <td>2023-01-05</td>\n",
              "      <td>85.900002</td>\n",
              "      <td>87.570000</td>\n",
              "    </tr>\n",
              "    <tr>\n",
              "      <th>3</th>\n",
              "      <td>2023-01-06</td>\n",
              "      <td>84.860001</td>\n",
              "      <td>87.690002</td>\n",
              "    </tr>\n",
              "    <tr>\n",
              "      <th>4</th>\n",
              "      <td>2023-01-09</td>\n",
              "      <td>87.860001</td>\n",
              "      <td>90.050003</td>\n",
              "    </tr>\n",
              "  </tbody>\n",
              "</table>\n",
              "</div>"
            ],
            "text/plain": [
              "         Date        Low       High\n",
              "0  2023-01-03  88.519997  91.050003\n",
              "1  2023-01-04  87.269997  90.650002\n",
              "2  2023-01-05  85.900002  87.570000\n",
              "3  2023-01-06  84.860001  87.690002\n",
              "4  2023-01-09  87.860001  90.050003"
            ]
          },
          "execution_count": 16,
          "metadata": {},
          "output_type": "execute_result"
        }
      ],
      "source": [
        "valores_variacao = dados[[\"Date\",\"Low\",\"High\"]].groupby(\"Date\").agg(\"sum\").reset_index()\n",
        "valores_variacao.head()"
      ]
    },
    {
      "cell_type": "code",
      "execution_count": 17,
      "metadata": {},
      "outputs": [
        {
          "name": "stderr",
          "output_type": "stream",
          "text": [
            "No artists with labels found to put in legend.  Note that artists whose label start with an underscore are ignored when legend() is called with no argument.\n"
          ]
        },
        {
          "data": {
            "image/png": "[encoded data removed]",
            "text/plain": [
              "<Figure size 640x480 with 1 Axes>"
            ]
          },
          "metadata": {},
          "output_type": "display_data"
        }
      ],
      "source": [
        "with sns.axes_style('whitegrid'):\n",
        "    grafico = sns.lineplot(data=valores_variacao, x=\"Date\", y=\"Low\", color=\"red\")\n",
        "    grafico = sns.lineplot(data=valores_variacao, x=\"Date\", y=\"High\", color=\"blue\")\n",
        "    grafico.set(title='Valores em baixa e alta das ações do Google', xlabel='Data', ylabel='Valores das ações')\n",
        "    grafico.legend(title='red: baixa/ blue: alta')\n"
      ]
    },
    {
      "cell_type": "markdown",
      "metadata": {},
      "source": [
        "**GRÁFICO DE AREA**"
      ]
    },
    {
      "cell_type": "code",
      "execution_count": 20,
      "metadata": {},
      "outputs": [
        {
          "data": {
            "text/html": [
              "<div>\n",
              "<style scoped>\n",
              "    .dataframe tbody tr th:only-of-type {\n",
              "        vertical-align: middle;\n",
              "    }\n",
              "\n",
              "    .dataframe tbody tr th {\n",
              "        vertical-align: top;\n",
              "    }\n",
              "\n",
              "    .dataframe thead th {\n",
              "        text-align: right;\n",
              "    }\n",
              "</style>\n",
              "<table border=\"1\" class=\"dataframe\">\n",
              "  <thead>\n",
              "    <tr style=\"text-align: right;\">\n",
              "      <th></th>\n",
              "      <th>Date</th>\n",
              "      <th>Open</th>\n",
              "      <th>Close</th>\n",
              "    </tr>\n",
              "  </thead>\n",
              "  <tbody>\n",
              "    <tr>\n",
              "      <th>0</th>\n",
              "      <td>2023-01-03</td>\n",
              "      <td>89.589996</td>\n",
              "      <td>89.120003</td>\n",
              "    </tr>\n",
              "    <tr>\n",
              "      <th>1</th>\n",
              "      <td>2023-01-04</td>\n",
              "      <td>90.349998</td>\n",
              "      <td>88.080002</td>\n",
              "    </tr>\n",
              "    <tr>\n",
              "      <th>2</th>\n",
              "      <td>2023-01-05</td>\n",
              "      <td>87.470001</td>\n",
              "      <td>86.199997</td>\n",
              "    </tr>\n",
              "    <tr>\n",
              "      <th>3</th>\n",
              "      <td>2023-01-06</td>\n",
              "      <td>86.790001</td>\n",
              "      <td>87.339996</td>\n",
              "    </tr>\n",
              "    <tr>\n",
              "      <th>4</th>\n",
              "      <td>2023-01-09</td>\n",
              "      <td>88.360001</td>\n",
              "      <td>88.019997</td>\n",
              "    </tr>\n",
              "  </tbody>\n",
              "</table>\n",
              "</div>"
            ],
            "text/plain": [
              "         Date       Open      Close\n",
              "0  2023-01-03  89.589996  89.120003\n",
              "1  2023-01-04  90.349998  88.080002\n",
              "2  2023-01-05  87.470001  86.199997\n",
              "3  2023-01-06  86.790001  87.339996\n",
              "4  2023-01-09  88.360001  88.019997"
            ]
          },
          "execution_count": 20,
          "metadata": {},
          "output_type": "execute_result"
        }
      ],
      "source": [
        "abertura_fechamento = dados[[\"Date\",\"Open\",\"Close\"]].groupby(\"Date\").agg(\"sum\").reset_index()\n",
        "abertura_fechamento.head()"
      ]
    },
    {
      "cell_type": "code",
      "execution_count": 25,
      "metadata": {},
      "outputs": [
        {
          "data": {
            "image/png": "[encoded data removed]",
            "text/plain": [
              "<Figure size 590.551x295.276 with 1 Axes>"
            ]
          },
          "metadata": {},
          "output_type": "display_data"
        }
      ],
      "source": [
        "with sns.axes_style('whitegrid'):\n",
        "  grafico = sns.FacetGrid(data=abertura_fechamento)\n",
        "  grafico.map(sns.lineplot, \"Date\", \"Open\",color=\"green\")\n",
        "  grafico.map(sns.lineplot, \"Date\", \"Close\",color=\"blue\")\n",
        "  grafico.map(plt.fill_between, 'Date', 'Open', alpha=0.3)\n",
        "  grafico.map(plt.fill_between, 'Date', 'Close', alpha=0.3)\n",
        "  grafico.set(title='Passageiros por ano', xlabel='Data', ylabel='Abertura')\n",
        "  grafico.add_legend()\n",
        "  grafico.fig.set_size_inches(w=15/2.54, h=7.5/2.54)\n"
      ]
    },
    {
      "cell_type": "markdown",
      "metadata": {},
      "source": []
    }
  ],
  "metadata": {
    "colab": {
      "authorship_tag": "ABX9TyNisqTz03i5pfcnpKOKTH0A",
      "include_colab_link": true,
      "provenance": []
    },
    "kernelspec": {
      "display_name": "Python 3",
      "name": "python3"
    },
    "language_info": {
      "codemirror_mode": {
        "name": "ipython",
        "version": 3
      },
      "file_extension": ".py",
      "mimetype": "text/x-python",
      "name": "python",
      "nbconvert_exporter": "python",
      "pygments_lexer": "ipython3",
      "version": "3.11.2"
    }
  },
  "nbformat": 4,
  "nbformat_minor": 0
}
